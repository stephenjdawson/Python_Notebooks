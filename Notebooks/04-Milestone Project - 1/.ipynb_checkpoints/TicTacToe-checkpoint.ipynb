{
 "cells": [
  {
   "cell_type": "code",
   "execution_count": null,
   "metadata": {},
   "outputs": [],
   "source": [
    "playerturn = 1\n",
    "p1name=\"\"\n",
    "p2name=\"\"\n",
    "endgame = False\n",
    "gameboard = [[\"\",\"\",\"\"],[\"\",\"\",\"\"],[\"\",\"\",\"\"]]\n",
    "             "
   ]
  },
  {
   "cell_type": "code",
   "execution_count": null,
   "metadata": {},
   "outputs": [],
   "source": [
    "while len(p1name) < 1:\n",
    "    p1name = input(\"Player one's name: \")"
   ]
  },
  {
   "cell_type": "code",
   "execution_count": null,
   "metadata": {},
   "outputs": [],
   "source": [
    "while len(p2name) < 1:\n",
    "    p2name = input(\"Player two's name: \")"
   ]
  },
  {
   "cell_type": "code",
   "execution_count": null,
   "metadata": {},
   "outputs": [],
   "source": [
    "def move_chosen(move):\n",
    "    move = list(move)\n",
    "    if playerturn == 1:\n",
    "        symbol =\"X\"\n",
    "    else:\n",
    "        symbol =\"O\"\n",
    "    gameboard[int(move[0])-1][int(move[1])-1] = symbol\n",
    "    return"
   ]
  },
  {
   "cell_type": "code",
   "execution_count": null,
   "metadata": {},
   "outputs": [],
   "source": [
    "def user_input(player):\n",
    "    test = [\"0\",\"0\"]\n",
    "    while int(test[0]) not in range(1,3+1):\n",
    "        while int(test[1]) not in range(1,3+1):\n",
    "            userinput = input(f\"{player} choose a tile[in the format row:column eg.11]:\")\n",
    "            test = list(userinput)\n",
    "            continue\n",
    "    return \"\".join([str(a) for a in test])"
   ]
  },
  {
   "cell_type": "code",
   "execution_count": null,
   "metadata": {},
   "outputs": [],
   "source": [
    "# print(gameboard[0], gameboard[1], gameboard[2], sep='/n') -> may work in an IDE but not here. \n",
    "while endgame == False:\n",
    "    move = \"0\"\n",
    "    move2 = \"0\"\n",
    "    print(\"   1   2   3 \")\n",
    "    print(f\"1  {gameboard[0][0]}  | {gameboard[0][1]}  | {gameboard[0][2]}  \")\n",
    "    print(\"  -----------\")\n",
    "    print(f\"2  {gameboard[1][0]}  | {gameboard[1][1]}  | {gameboard[1][2]}  \")\n",
    "    print(\"  -----------\")\n",
    "    print(f\"3  {gameboard[2][0]}  | {gameboard[2][1]}  | {gameboard[2][2]}  \")\n",
    "    if playerturn == 1:\n",
    "        while len(move) != 2:\n",
    "            move = user_input(p1name)\n",
    "        move_chosen(move)\n",
    "        playerturn = 2\n",
    "        continue\n",
    "    elif playerturn == 2:\n",
    "        while len(move2) != 2:\n",
    "            move2 = user_input(p2name)\n",
    "        move_chosen(move2)\n",
    "        playerturn = 1\n",
    "        continue\n",
    "        \n",
    "        "
   ]
  }
 ],
 "metadata": {
  "kernelspec": {
   "display_name": "Python 3",
   "language": "python",
   "name": "python3"
  },
  "language_info": {
   "codemirror_mode": {
    "name": "ipython",
    "version": 3
   },
   "file_extension": ".py",
   "mimetype": "text/x-python",
   "name": "python",
   "nbconvert_exporter": "python",
   "pygments_lexer": "ipython3",
   "version": "3.7.4"
  }
 },
 "nbformat": 4,
 "nbformat_minor": 2
}
