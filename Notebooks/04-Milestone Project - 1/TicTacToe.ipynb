{
 "cells": [
  {
   "cell_type": "code",
   "execution_count": null,
   "metadata": {},
   "outputs": [],
   "source": [
    "import collections, numpy as np, sys, copy\n",
    "playerturn = 1\n",
    "p1name=\"\"\n",
    "p2name=\"\"\n",
    "endgame = False\n",
    "gameboard = [[\" \",\" \",\" \"],[\" \",\" \",\" \"],[\" \",\" \",\" \"]]"
   ]
  },
  {
   "cell_type": "code",
   "execution_count": null,
   "metadata": {},
   "outputs": [],
   "source": [
    "while len(p1name) < 1:\n",
    "    p1name = input(\"Player one's name: \")"
   ]
  },
  {
   "cell_type": "code",
   "execution_count": null,
   "metadata": {},
   "outputs": [],
   "source": [
    "while len(p2name) < 1:\n",
    "    p2name = input(\"Player two's name: \")"
   ]
  },
  {
   "cell_type": "code",
   "execution_count": null,
   "metadata": {},
   "outputs": [],
   "source": [
    "#def endgame_summation(*args), can try to do this to refactor better. \n",
    "def endgame_summation(elements, name1, name2):\n",
    "    '''This function sums columns, rows, and diagonals of board matrix'''\n",
    "    for n in np.nditer(elements):\n",
    "        if n == 3:\n",
    "            print(f\"{name1} wins!\")\n",
    "            return True\n",
    "        elif n == 27:\n",
    "            print(f\"{name2} wins!\")\n",
    "            return True"
   ]
  },
  {
   "cell_type": "code",
   "execution_count": null,
   "metadata": {},
   "outputs": [],
   "source": [
    "def endgame_check(checkboard, name1, name2):\n",
    "    '''This function checks for a win or tie'''\n",
    "    board = copy.deepcopy(checkboard)\n",
    "    board = [cell for cell in board if cell]\n",
    "    for row in board:\n",
    "        for i in range(len(row)):\n",
    "            if row[i] == \"X\":\n",
    "                row[i] = 1\n",
    "            elif row[i] == \"O\":\n",
    "                row[i] = 9\n",
    "            elif row[i] == \" \":\n",
    "                row[i] = 0\n",
    "    board = np.asmatrix(board).astype(np.int)\n",
    "    #column is axis 0, row is axis 1\n",
    "    rowsum = np.sum(board, axis=0, dtype=np.int32)\n",
    "    colsum = np.sum(board, axis=1, dtype=np.int32)\n",
    "    diagsum = np.trace(board)\n",
    "    antidiagsum = np.fliplr(board)\n",
    "    antidiagsum = np.trace(antidiagsum)\n",
    "    sumlist = [rowsum, colsum, diagsum, antidiagsum]\n",
    "    for i in sumlist:\n",
    "        if endgame_summation(i, name1, name2):\n",
    "            return True\n",
    "    if np.count_nonzero(board) == 9:\n",
    "             print(\"Cats game! Meoww!!\")\n",
    "             return True\n",
    "    return False\n"
   ]
  },
  {
   "cell_type": "code",
   "execution_count": null,
   "metadata": {},
   "outputs": [],
   "source": [
    "def move_chosen(move):\n",
    "    '''This function places a move symbol'''\n",
    "    move = list(move)\n",
    "    if playerturn == 1:\n",
    "        symbol =\"X\"\n",
    "    else:\n",
    "        symbol =\"O\"\n",
    "    gameboard[int(move[0])-1][int(move[1])-1] = symbol\n",
    "    return"
   ]
  },
  {
   "cell_type": "code",
   "execution_count": null,
   "metadata": {},
   "outputs": [],
   "source": [
    "def cell_check(pmove, board):\n",
    "    '''This function check the existing cells to make sure you are not overwriting a move, if a move exists in that cell, return blank          string to continue while loop'''\n",
    "    cell = list(pmove)\n",
    "    if board[int(cell[0])-1][int(cell[1])-1] != \" \":\n",
    "        pmove = \" \"\n",
    "        print(\"Cannot go here, please choose again.\")\n",
    "        return pmove\n",
    "    else:\n",
    "        return pmove"
   ]
  },
  {
   "cell_type": "code",
   "execution_count": null,
   "metadata": {},
   "outputs": [],
   "source": [
    "def input_check(move,name1,name2):\n",
    "    '''this function initialized input, and makes sure it is valid'''\n",
    "    while len(move) != 2:\n",
    "            move = user_input(name1)\n",
    "            if move == True:\n",
    "                print(f\"You have exited the game, thank you for playing {name1} and {name2}\")\n",
    "                sys.exit(0)\n",
    "            move = cell_check(move, gameboard)\n",
    "    return move"
   ]
  },
  {
   "cell_type": "code",
   "execution_count": null,
   "metadata": {},
   "outputs": [],
   "source": [
    "def user_input(player):\n",
    "    '''This function takes user input to make a move'''\n",
    "    test = [\"0\",\"0\"]\n",
    "    while int(test[0]) not in range(1,3+1):\n",
    "        while int(test[1]) not in range(1,3+1):\n",
    "            userinput = input(f\"{player} choose a tile[in the format row:column eg.11]:\")\n",
    "            if len(userinput) == 2 and userinput.isnumeric():\n",
    "                test = list(userinput)\n",
    "            elif userinput.lower() == \"exit\":\n",
    "                return True\n",
    "            else:\n",
    "                continue\n",
    "    return \"\".join([str(a) for a in test])"
   ]
  },
  {
   "cell_type": "code",
   "execution_count": null,
   "metadata": {},
   "outputs": [],
   "source": [
    "#print(gameboard[0], gameboard[1], gameboard[2], sep='/n') -> may work in an IDE but not here. \n",
    "while endgame == False:\n",
    "    move = \"0\"\n",
    "    endgame = endgame_check(gameboard, p1name, p2name)\n",
    "    print(\"   1   2   3 \")\n",
    "    print(f\"1  {gameboard[0][0]} | {gameboard[0][1]} | {gameboard[0][2]} \")\n",
    "    print(\"  -----------\")\n",
    "    print(f\"2  {gameboard[1][0]} | {gameboard[1][1]} | {gameboard[1][2]} \")\n",
    "    print(\"  -----------\")\n",
    "    print(f\"3  {gameboard[2][0]} | {gameboard[2][1]} | {gameboard[2][2]} \")\n",
    "    if playerturn == 1 and endgame == False:\n",
    "        move_chosen(input_check(move,p1name,p2name))\n",
    "        playerturn = 2\n",
    "    elif playerturn == 2 and endgame == False:\n",
    "        move_chosen(input_check(move,p2name,p1name))\n",
    "        playerturn = 1"
   ]
  },
  {
   "cell_type": "code",
   "execution_count": null,
   "metadata": {},
   "outputs": [],
   "source": []
  }
 ],
 "metadata": {
  "kernelspec": {
   "display_name": "Python 3",
   "language": "python",
   "name": "python3"
  },
  "language_info": {
   "codemirror_mode": {
    "name": "ipython",
    "version": 3
   },
   "file_extension": ".py",
   "mimetype": "text/x-python",
   "name": "python",
   "nbconvert_exporter": "python",
   "pygments_lexer": "ipython3",
   "version": "3.7.4-final"
  }
 },
 "nbformat": 4,
 "nbformat_minor": 2
}